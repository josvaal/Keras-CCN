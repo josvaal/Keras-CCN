{
  "nbformat": 4,
  "nbformat_minor": 0,
  "metadata": {
    "colab": {
      "provenance": [],
      "authorship_tag": "ABX9TyOjoFfp+xUiFFLJRYi2nxhs",
      "include_colab_link": true
    },
    "kernelspec": {
      "name": "python3",
      "display_name": "Python 3"
    },
    "language_info": {
      "name": "python"
    }
  },
  "cells": [
    {
      "cell_type": "markdown",
      "metadata": {
        "id": "view-in-github",
        "colab_type": "text"
      },
      "source": [
        "<a href=\"https://colab.research.google.com/github/josvaal/Keras-CCN/blob/main/Convolutional_Neural_Network_With_Keras.ipynb\" target=\"_parent\"><img src=\"https://colab.research.google.com/assets/colab-badge.svg\" alt=\"Open In Colab\"/></a>"
      ]
    },
    {
      "cell_type": "markdown",
      "source": [
        "# Imports\n",
        "\n",
        "## Sequential\n",
        "\n",
        "Is a Keras class for building neural networks by stacking layers sequentially. It simplifies model creation with methods like add(), compile(), and fit().\n",
        "\n",
        "## Datasets\n",
        "\n",
        "Provide a few toy datasets (already-vectorized, in Numpy format) that can be used for debugging a model or creating simple code examples.\n",
        "\n",
        "## Layers\n",
        "\n",
        "- **Dense**: creates a fully connected layer where each input connects to every output neuron. It learns patterns using weights and an activation function. Key parameters are units (number of neurons) and activation (activation function).\n",
        "\n",
        "- **Flatten**: is a Keras layer that converts multi-dimensional inputs into a one-dimensional array. It’s often used to flatten the output of convolutional layers before feeding it into fully connected layers.\n",
        "\n",
        "- **Conv2D**: applies 2D convolutional filters to input data, extracting features. Key parameters are filters (number of filters) and kernel_size (filter size).\n",
        "\n",
        "- **MaxPooling2D**: reduces the size of 2D data by selecting the maximum value in small regions, preserving key features while lowering computational cost.\n",
        "\n",
        "## Numpy\n",
        "\n",
        "A library for efficient array and matrix operations, using np as a shorthand alias.\n",
        "\n",
        "## Pyplot\n",
        "\n",
        " Module from the Matplotlib library, which is used for creating plots, charts, and graphs in Python.\n",
        "\n",
        " ## OS\n",
        "\n",
        " Provides functions for interacting with the operating system, such as file and directory management."
      ],
      "metadata": {
        "id": "4v8Nd60z7yQ0"
      }
    },
    {
      "cell_type": "code",
      "execution_count": 1,
      "metadata": {
        "id": "2esj-PgE7kQM"
      },
      "outputs": [],
      "source": [
        "from tensorflow.keras import Sequential, datasets\n",
        "from tensorflow.keras.layers import Dense, Flatten, Conv2D, MaxPooling2D\n",
        "import numpy as np\n",
        "from matplotlib import pyplot as plt\n",
        "import os"
      ]
    },
    {
      "cell_type": "markdown",
      "source": [
        "`datasets.cifar10.load_data()` is a function in TensorFlow/Keras that loads the CIFAR-10 dataset, a collection of 60,000 32x32 color images in 10 different classes (e.g., airplanes, cars, birds). The function returns two tuples: one for the training set and one for the test set, each containing images and their corresponding labels.\n",
        "\n",
        "- The ouput of the print statements will be (50000, 32, 32, 3). This basically means, we are going to use **50000 images(rows of data)** for testing and each image is 32X32 pixels and 3 dimensions, the RGB scale.\n",
        "\n",
        "- The second print statement will be **(10000, 32, 32, 3).** This is 10000 images of 32X32 pixel image and 3 dimensions. This is the sample we are going to use for testing the model."
      ],
      "metadata": {
        "id": "OjhnatSOAGZB"
      }
    },
    {
      "cell_type": "code",
      "source": [
        "(X_train, y_train), (X_test, y_test) = datasets.cifar10.load_data()\n",
        "# take a look at the shape of the dataset\n",
        "print(X_train.shape)\n",
        "print(X_test.shape)"
      ],
      "metadata": {
        "colab": {
          "base_uri": "https://localhost:8080/"
        },
        "id": "2UvPiVp_AGye",
        "outputId": "926fa64c-0bde-4247-981a-ef6b38a5cc1c"
      },
      "execution_count": 2,
      "outputs": [
        {
          "output_type": "stream",
          "name": "stdout",
          "text": [
            "Downloading data from https://www.cs.toronto.edu/~kriz/cifar-10-python.tar.gz\n",
            "\u001b[1m170498071/170498071\u001b[0m \u001b[32m━━━━━━━━━━━━━━━━━━━━\u001b[0m\u001b[37m\u001b[0m \u001b[1m3s\u001b[0m 0us/step\n",
            "(50000, 32, 32, 3)\n",
            "(10000, 32, 32, 3)\n"
          ]
        }
      ]
    },
    {
      "cell_type": "markdown",
      "source": [
        "`y_train = y_train.reshape(-1,)` reshapes the `y_train` array into a 1D vector. The `-1` argument automatically adjusts the size based on the total number of elements, flattening the array while keeping its original length. This is commonly used to ensure the labels are in a 1D format for machine learning models."
      ],
      "metadata": {
        "id": "fl9KQ3TnA1D8"
      }
    },
    {
      "cell_type": "code",
      "source": [
        "y_train = y_train.reshape(-1,)\n",
        "y_train"
      ],
      "metadata": {
        "colab": {
          "base_uri": "https://localhost:8080/"
        },
        "id": "rqDGlsxzAv4W",
        "outputId": "defb1ed0-afbf-45da-95ba-85d0fab602bc"
      },
      "execution_count": 4,
      "outputs": [
        {
          "output_type": "execute_result",
          "data": {
            "text/plain": [
              "array([6, 9, 9, ..., 9, 1, 1], dtype=uint8)"
            ]
          },
          "metadata": {},
          "execution_count": 4
        }
      ]
    },
    {
      "cell_type": "markdown",
      "source": [
        "`y_classes = [\"airplane\", \"automobile\", \"bird\", \"cat\", \"deer\", \"dog\", \"frog\", \"horse\", \"ship\", \"truck\"]` defines a list of class names corresponding to the 10 categories in the CIFAR-10 dataset. Each entry in the list represents a label for the dataset images."
      ],
      "metadata": {
        "id": "DW8TvPuiBCsV"
      }
    },
    {
      "cell_type": "code",
      "source": [
        "y_classes = [\"airplane\", \"automobile\", \"bird\", \"cat\", \"deer\", \"dog\", \"frog\", \"horse\", \"ship\", \"truck\"]"
      ],
      "metadata": {
        "id": "iKlJlaUgBDPf"
      },
      "execution_count": 5,
      "outputs": []
    },
    {
      "cell_type": "markdown",
      "source": [
        "The **showImage** function displays an image from a dataset and labels it with its class name. For example, `showImage(X_train, y_train, 6)` shows the **7th image** in `X_train` with its corresponding label."
      ],
      "metadata": {
        "id": "0DP3QlLRBQoY"
      }
    },
    {
      "cell_type": "code",
      "source": [
        "def showImage(X, y, index):\n",
        "    plt.figure(figsize=(15, 2))\n",
        "    plt.imshow(X[index])\n",
        "    plt.xlabel(y_classes[y[index]])\n",
        "\n",
        "showImage(X_train, y_train, 6)"
      ],
      "metadata": {
        "colab": {
          "base_uri": "https://localhost:8080/",
          "height": 237
        },
        "id": "0wQ338ouBQ93",
        "outputId": "b6f73de3-e1da-43ad-e336-7736e1b38534"
      },
      "execution_count": 18,
      "outputs": [
        {
          "output_type": "display_data",
          "data": {
            "text/plain": [
              "<Figure size 1500x200 with 1 Axes>"
            ],
            "image/png": "[encoded data removed]"
          },
          "metadata": {}
        }
      ]
    },
    {
      "cell_type": "markdown",
      "source": [
        "This code prints the first image from `X_train` before and after normalization. Normalization is done by dividing pixel values by 255, scaling them to a range between 0 and 1. The `print` statements show the pixel values of the first image in `X_train` before and after this scaling."
      ],
      "metadata": {
        "id": "ciVQ6XqECPGH"
      }
    },
    {
      "cell_type": "code",
      "source": [
        "# before normalization\n",
        "print(X_train[0])\n",
        "\n",
        "X_train = X_train/255\n",
        "X_test = X_test/255\n",
        "\n",
        "# after normalization\n",
        "print(X_train[0])"
      ],
      "metadata": {
        "colab": {
          "base_uri": "https://localhost:8080/"
        },
        "id": "x_NTo680CPiR",
        "outputId": "6a6c708e-eb93-4761-c1b0-d5fee48ad5d1"
      },
      "execution_count": 13,
      "outputs": [
        {
          "output_type": "stream",
          "name": "stdout",
          "text": [
            "[[[ 59  62  63]\n",
            "  [ 43  46  45]\n",
            "  [ 50  48  43]\n",
            "  ...\n",
            "  [158 132 108]\n",
            "  [152 125 102]\n",
            "  [148 124 103]]\n",
            "\n",
            " [[ 16  20  20]\n",
            "  [  0   0   0]\n",
            "  [ 18   8   0]\n",
            "  ...\n",
            "  [123  88  55]\n",
            "  [119  83  50]\n",
            "  [122  87  57]]\n",
            "\n",
            " [[ 25  24  21]\n",
            "  [ 16   7   0]\n",
            "  [ 49  27   8]\n",
            "  ...\n",
            "  [118  84  50]\n",
            "  [120  84  50]\n",
            "  [109  73  42]]\n",
            "\n",
            " ...\n",
            "\n",
            " [[208 170  96]\n",
            "  [201 153  34]\n",
            "  [198 161  26]\n",
            "  ...\n",
            "  [160 133  70]\n",
            "  [ 56  31   7]\n",
            "  [ 53  34  20]]\n",
            "\n",
            " [[180 139  96]\n",
            "  [173 123  42]\n",
            "  [186 144  30]\n",
            "  ...\n",
            "  [184 148  94]\n",
            "  [ 97  62  34]\n",
            "  [ 83  53  34]]\n",
            "\n",
            " [[177 144 116]\n",
            "  [168 129  94]\n",
            "  [179 142  87]\n",
            "  ...\n",
            "  [216 184 140]\n",
            "  [151 118  84]\n",
            "  [123  92  72]]]\n",
            "[[[0.23137255 0.24313725 0.24705882]\n",
            "  [0.16862745 0.18039216 0.17647059]\n",
            "  [0.19607843 0.18823529 0.16862745]\n",
            "  ...\n",
            "  [0.61960784 0.51764706 0.42352941]\n",
            "  [0.59607843 0.49019608 0.4       ]\n",
            "  [0.58039216 0.48627451 0.40392157]]\n",
            "\n",
            " [[0.0627451  0.07843137 0.07843137]\n",
            "  [0.         0.         0.        ]\n",
            "  [0.07058824 0.03137255 0.        ]\n",
            "  ...\n",
            "  [0.48235294 0.34509804 0.21568627]\n",
            "  [0.46666667 0.3254902  0.19607843]\n",
            "  [0.47843137 0.34117647 0.22352941]]\n",
            "\n",
            " [[0.09803922 0.09411765 0.08235294]\n",
            "  [0.0627451  0.02745098 0.        ]\n",
            "  [0.19215686 0.10588235 0.03137255]\n",
            "  ...\n",
            "  [0.4627451  0.32941176 0.19607843]\n",
            "  [0.47058824 0.32941176 0.19607843]\n",
            "  [0.42745098 0.28627451 0.16470588]]\n",
            "\n",
            " ...\n",
            "\n",
            " [[0.81568627 0.66666667 0.37647059]\n",
            "  [0.78823529 0.6        0.13333333]\n",
            "  [0.77647059 0.63137255 0.10196078]\n",
            "  ...\n",
            "  [0.62745098 0.52156863 0.2745098 ]\n",
            "  [0.21960784 0.12156863 0.02745098]\n",
            "  [0.20784314 0.13333333 0.07843137]]\n",
            "\n",
            " [[0.70588235 0.54509804 0.37647059]\n",
            "  [0.67843137 0.48235294 0.16470588]\n",
            "  [0.72941176 0.56470588 0.11764706]\n",
            "  ...\n",
            "  [0.72156863 0.58039216 0.36862745]\n",
            "  [0.38039216 0.24313725 0.13333333]\n",
            "  [0.3254902  0.20784314 0.13333333]]\n",
            "\n",
            " [[0.69411765 0.56470588 0.45490196]\n",
            "  [0.65882353 0.50588235 0.36862745]\n",
            "  [0.70196078 0.55686275 0.34117647]\n",
            "  ...\n",
            "  [0.84705882 0.72156863 0.54901961]\n",
            "  [0.59215686 0.4627451  0.32941176]\n",
            "  [0.48235294 0.36078431 0.28235294]]]\n"
          ]
        }
      ]
    },
    {
      "cell_type": "markdown",
      "source": [
        "Convolutional Neural Network (CNN) using TensorFlow's Keras API with the following layers:\n",
        "\n",
        "1. **`Conv2D`**: Applies a 2D convolution with 32 filters and a 3x3 kernel, using ReLU activation.\n",
        "2. **`MaxPooling2D`**: Performs max pooling with a 2x2 pool size, reducing the spatial dimensions.\n",
        "3. **`Conv2D`**: Adds another convolutional layer with 64 filters and a 4x4 kernel, also using ReLU activation.\n",
        "4. **`MaxPooling2D`**: Another max pooling layer with a 2x2 pool size.\n",
        "5. **`Flatten`**: Flattens the 2D feature maps into a 1D vector.\n",
        "6. **`Dense`**: Fully connected layer with 34 units and ReLU activation.\n",
        "7. **`Dense`**: Final output layer with 10 units and softmax activation for classification.\n",
        "\n",
        "`model.summary()` prints a summary of the model's architecture, including the number of parameters and the shape of each layer."
      ],
      "metadata": {
        "id": "AXctuhP1DM79"
      }
    },
    {
      "cell_type": "code",
      "source": [
        "model = Sequential()\n",
        "\n",
        "model.add(Conv2D(filters = 32, kernel_size=(3, 3), activation=\"relu\", input_shape=(32, 32, 3)))\n",
        "model.add(MaxPooling2D(pool_size=(2, 2)))\n",
        "\n",
        "model.add(Conv2D(filters=64, kernel_size=(4, 4), activation=\"relu\"))\n",
        "model.add(MaxPooling2D(pool_size=(2, 2)))\n",
        "\n",
        "model.add(Flatten())\n",
        "model.add(Dense(units = 34, activation=\"relu\"))\n",
        "model.add(Dense(units=10, activation=\"softmax\"))\n",
        "\n",
        "model.summary()"
      ],
      "metadata": {
        "colab": {
          "base_uri": "https://localhost:8080/",
          "height": 429
        },
        "id": "LG54OqGBDNSG",
        "outputId": "b6de04ca-6cc5-4edf-e837-19438d4e1804"
      },
      "execution_count": 14,
      "outputs": [
        {
          "output_type": "stream",
          "name": "stderr",
          "text": [
            "/usr/local/lib/python3.10/dist-packages/keras/src/layers/convolutional/base_conv.py:107: UserWarning: Do not pass an `input_shape`/`input_dim` argument to a layer. When using Sequential models, prefer using an `Input(shape)` object as the first layer in the model instead.\n",
            "  super().__init__(activity_regularizer=activity_regularizer, **kwargs)\n"
          ]
        },
        {
          "output_type": "display_data",
          "data": {
            "text/plain": [
              "\u001b[1mModel: \"sequential\"\u001b[0m\n"
            ],
            "text/html": [
              "<pre style=\"white-space:pre;overflow-x:auto;line-height:normal;font-family:Menlo,'DejaVu Sans Mono',consolas,'Courier New',monospace\"><span style=\"font-weight: bold\">Model: \"sequential\"</span>\n",
              "</pre>\n"
            ]
          },
          "metadata": {}
        },
        {
          "output_type": "display_data",
          "data": {
            "text/plain": [
              "┏━━━━━━━━━━━━━━━━━━━━━━━━━━━━━━━━━━━━━━┳━━━━━━━━━━━━━━━━━━━━━━━━━━━━━┳━━━━━━━━━━━━━━━━━┓\n",
              "┃\u001b[1m \u001b[0m\u001b[1mLayer (type)                        \u001b[0m\u001b[1m \u001b[0m┃\u001b[1m \u001b[0m\u001b[1mOutput Shape               \u001b[0m\u001b[1m \u001b[0m┃\u001b[1m \u001b[0m\u001b[1m        Param #\u001b[0m\u001b[1m \u001b[0m┃\n",
              "┡━━━━━━━━━━━━━━━━━━━━━━━━━━━━━━━━━━━━━━╇━━━━━━━━━━━━━━━━━━━━━━━━━━━━━╇━━━━━━━━━━━━━━━━━┩\n",
              "│ conv2d (\u001b[38;5;33mConv2D\u001b[0m)                      │ (\u001b[38;5;45mNone\u001b[0m, \u001b[38;5;34m30\u001b[0m, \u001b[38;5;34m30\u001b[0m, \u001b[38;5;34m32\u001b[0m)          │             \u001b[38;5;34m896\u001b[0m │\n",
              "├──────────────────────────────────────┼─────────────────────────────┼─────────────────┤\n",
              "│ max_pooling2d (\u001b[38;5;33mMaxPooling2D\u001b[0m)         │ (\u001b[38;5;45mNone\u001b[0m, \u001b[38;5;34m15\u001b[0m, \u001b[38;5;34m15\u001b[0m, \u001b[38;5;34m32\u001b[0m)          │               \u001b[38;5;34m0\u001b[0m │\n",
              "├──────────────────────────────────────┼─────────────────────────────┼─────────────────┤\n",
              "│ conv2d_1 (\u001b[38;5;33mConv2D\u001b[0m)                    │ (\u001b[38;5;45mNone\u001b[0m, \u001b[38;5;34m12\u001b[0m, \u001b[38;5;34m12\u001b[0m, \u001b[38;5;34m64\u001b[0m)          │          \u001b[38;5;34m32,832\u001b[0m │\n",
              "├──────────────────────────────────────┼─────────────────────────────┼─────────────────┤\n",
              "│ max_pooling2d_1 (\u001b[38;5;33mMaxPooling2D\u001b[0m)       │ (\u001b[38;5;45mNone\u001b[0m, \u001b[38;5;34m6\u001b[0m, \u001b[38;5;34m6\u001b[0m, \u001b[38;5;34m64\u001b[0m)            │               \u001b[38;5;34m0\u001b[0m │\n",
              "├──────────────────────────────────────┼─────────────────────────────┼─────────────────┤\n",
              "│ flatten (\u001b[38;5;33mFlatten\u001b[0m)                    │ (\u001b[38;5;45mNone\u001b[0m, \u001b[38;5;34m2304\u001b[0m)                │               \u001b[38;5;34m0\u001b[0m │\n",
              "├──────────────────────────────────────┼─────────────────────────────┼─────────────────┤\n",
              "│ dense (\u001b[38;5;33mDense\u001b[0m)                        │ (\u001b[38;5;45mNone\u001b[0m, \u001b[38;5;34m34\u001b[0m)                  │          \u001b[38;5;34m78,370\u001b[0m │\n",
              "├──────────────────────────────────────┼─────────────────────────────┼─────────────────┤\n",
              "│ dense_1 (\u001b[38;5;33mDense\u001b[0m)                      │ (\u001b[38;5;45mNone\u001b[0m, \u001b[38;5;34m10\u001b[0m)                  │             \u001b[38;5;34m350\u001b[0m │\n",
              "└──────────────────────────────────────┴─────────────────────────────┴─────────────────┘\n"
            ],
            "text/html": [
              "<pre style=\"white-space:pre;overflow-x:auto;line-height:normal;font-family:Menlo,'DejaVu Sans Mono',consolas,'Courier New',monospace\">┏━━━━━━━━━━━━━━━━━━━━━━━━━━━━━━━━━━━━━━┳━━━━━━━━━━━━━━━━━━━━━━━━━━━━━┳━━━━━━━━━━━━━━━━━┓\n",
              "┃<span style=\"font-weight: bold\"> Layer (type)                         </span>┃<span style=\"font-weight: bold\"> Output Shape                </span>┃<span style=\"font-weight: bold\">         Param # </span>┃\n",
              "┡━━━━━━━━━━━━━━━━━━━━━━━━━━━━━━━━━━━━━━╇━━━━━━━━━━━━━━━━━━━━━━━━━━━━━╇━━━━━━━━━━━━━━━━━┩\n",
              "│ conv2d (<span style=\"color: #0087ff; text-decoration-color: #0087ff\">Conv2D</span>)                      │ (<span style=\"color: #00d7ff; text-decoration-color: #00d7ff\">None</span>, <span style=\"color: #00af00; text-decoration-color: #00af00\">30</span>, <span style=\"color: #00af00; text-decoration-color: #00af00\">30</span>, <span style=\"color: #00af00; text-decoration-color: #00af00\">32</span>)          │             <span style=\"color: #00af00; text-decoration-color: #00af00\">896</span> │\n",
              "├──────────────────────────────────────┼─────────────────────────────┼─────────────────┤\n",
              "│ max_pooling2d (<span style=\"color: #0087ff; text-decoration-color: #0087ff\">MaxPooling2D</span>)         │ (<span style=\"color: #00d7ff; text-decoration-color: #00d7ff\">None</span>, <span style=\"color: #00af00; text-decoration-color: #00af00\">15</span>, <span style=\"color: #00af00; text-decoration-color: #00af00\">15</span>, <span style=\"color: #00af00; text-decoration-color: #00af00\">32</span>)          │               <span style=\"color: #00af00; text-decoration-color: #00af00\">0</span> │\n",
              "├──────────────────────────────────────┼─────────────────────────────┼─────────────────┤\n",
              "│ conv2d_1 (<span style=\"color: #0087ff; text-decoration-color: #0087ff\">Conv2D</span>)                    │ (<span style=\"color: #00d7ff; text-decoration-color: #00d7ff\">None</span>, <span style=\"color: #00af00; text-decoration-color: #00af00\">12</span>, <span style=\"color: #00af00; text-decoration-color: #00af00\">12</span>, <span style=\"color: #00af00; text-decoration-color: #00af00\">64</span>)          │          <span style=\"color: #00af00; text-decoration-color: #00af00\">32,832</span> │\n",
              "├──────────────────────────────────────┼─────────────────────────────┼─────────────────┤\n",
              "│ max_pooling2d_1 (<span style=\"color: #0087ff; text-decoration-color: #0087ff\">MaxPooling2D</span>)       │ (<span style=\"color: #00d7ff; text-decoration-color: #00d7ff\">None</span>, <span style=\"color: #00af00; text-decoration-color: #00af00\">6</span>, <span style=\"color: #00af00; text-decoration-color: #00af00\">6</span>, <span style=\"color: #00af00; text-decoration-color: #00af00\">64</span>)            │               <span style=\"color: #00af00; text-decoration-color: #00af00\">0</span> │\n",
              "├──────────────────────────────────────┼─────────────────────────────┼─────────────────┤\n",
              "│ flatten (<span style=\"color: #0087ff; text-decoration-color: #0087ff\">Flatten</span>)                    │ (<span style=\"color: #00d7ff; text-decoration-color: #00d7ff\">None</span>, <span style=\"color: #00af00; text-decoration-color: #00af00\">2304</span>)                │               <span style=\"color: #00af00; text-decoration-color: #00af00\">0</span> │\n",
              "├──────────────────────────────────────┼─────────────────────────────┼─────────────────┤\n",
              "│ dense (<span style=\"color: #0087ff; text-decoration-color: #0087ff\">Dense</span>)                        │ (<span style=\"color: #00d7ff; text-decoration-color: #00d7ff\">None</span>, <span style=\"color: #00af00; text-decoration-color: #00af00\">34</span>)                  │          <span style=\"color: #00af00; text-decoration-color: #00af00\">78,370</span> │\n",
              "├──────────────────────────────────────┼─────────────────────────────┼─────────────────┤\n",
              "│ dense_1 (<span style=\"color: #0087ff; text-decoration-color: #0087ff\">Dense</span>)                      │ (<span style=\"color: #00d7ff; text-decoration-color: #00d7ff\">None</span>, <span style=\"color: #00af00; text-decoration-color: #00af00\">10</span>)                  │             <span style=\"color: #00af00; text-decoration-color: #00af00\">350</span> │\n",
              "└──────────────────────────────────────┴─────────────────────────────┴─────────────────┘\n",
              "</pre>\n"
            ]
          },
          "metadata": {}
        },
        {
          "output_type": "display_data",
          "data": {
            "text/plain": [
              "\u001b[1m Total params: \u001b[0m\u001b[38;5;34m112,448\u001b[0m (439.25 KB)\n"
            ],
            "text/html": [
              "<pre style=\"white-space:pre;overflow-x:auto;line-height:normal;font-family:Menlo,'DejaVu Sans Mono',consolas,'Courier New',monospace\"><span style=\"font-weight: bold\"> Total params: </span><span style=\"color: #00af00; text-decoration-color: #00af00\">112,448</span> (439.25 KB)\n",
              "</pre>\n"
            ]
          },
          "metadata": {}
        },
        {
          "output_type": "display_data",
          "data": {
            "text/plain": [
              "\u001b[1m Trainable params: \u001b[0m\u001b[38;5;34m112,448\u001b[0m (439.25 KB)\n"
            ],
            "text/html": [
              "<pre style=\"white-space:pre;overflow-x:auto;line-height:normal;font-family:Menlo,'DejaVu Sans Mono',consolas,'Courier New',monospace\"><span style=\"font-weight: bold\"> Trainable params: </span><span style=\"color: #00af00; text-decoration-color: #00af00\">112,448</span> (439.25 KB)\n",
              "</pre>\n"
            ]
          },
          "metadata": {}
        },
        {
          "output_type": "display_data",
          "data": {
            "text/plain": [
              "\u001b[1m Non-trainable params: \u001b[0m\u001b[38;5;34m0\u001b[0m (0.00 B)\n"
            ],
            "text/html": [
              "<pre style=\"white-space:pre;overflow-x:auto;line-height:normal;font-family:Menlo,'DejaVu Sans Mono',consolas,'Courier New',monospace\"><span style=\"font-weight: bold\"> Non-trainable params: </span><span style=\"color: #00af00; text-decoration-color: #00af00\">0</span> (0.00 B)\n",
              "</pre>\n"
            ]
          },
          "metadata": {}
        }
      ]
    },
    {
      "cell_type": "markdown",
      "source": [
        "- **`optimizer=\"adam\"`**: Uses the Adam optimizer, which adjusts learning rates based on training progress.\n",
        "- **`loss=\"sparse_categorical_crossentropy\"`**: Specifies the loss function for multi-class classification where labels are integers.\n",
        "- **`metrics=[\"accuracy\"]`**: Tracks accuracy as the evaluation metric during training and testing.\n",
        "\n",
        "These settings are essential for compiling the model before training it with the `.fit()` method."
      ],
      "metadata": {
        "id": "AshWU13TD0_E"
      }
    },
    {
      "cell_type": "code",
      "source": [
        "model.compile(\n",
        "    optimizer=\"adam\",\n",
        "    loss=\"sparse_categorical_crossentropy\",\n",
        "    metrics=[\"accuracy\"]\n",
        ")"
      ],
      "metadata": {
        "id": "nyHGLHGCD1RB"
      },
      "execution_count": 15,
      "outputs": []
    },
    {
      "cell_type": "markdown",
      "source": [
        "trains the model with the following parameters:\n",
        "\n",
        "- **`X_train`** and **`y_train`**: Training data and labels.\n",
        "- **`validation_data=(X_test, y_test)`**: Provides validation data to evaluate the model's performance on unseen data after each epoch.\n",
        "- **`epochs=5`**: Specifies the number of times the model will iterate over the entire training dataset.\n",
        "\n",
        "The model will be trained for 5 epochs, with validation performed using `X_test` and `y_test` to monitor performance and adjust if necessary."
      ],
      "metadata": {
        "id": "yABGmOX5EAhb"
      }
    },
    {
      "cell_type": "code",
      "source": [
        "model.fit(X_train, y_train, validation_data = (X_test, y_test), epochs = 5)"
      ],
      "metadata": {
        "colab": {
          "base_uri": "https://localhost:8080/"
        },
        "id": "E4v43aXyEBWL",
        "outputId": "5d7babd1-0595-4418-a335-fc4f3999c2a5"
      },
      "execution_count": 16,
      "outputs": [
        {
          "output_type": "stream",
          "name": "stdout",
          "text": [
            "Epoch 1/5\n",
            "\u001b[1m1563/1563\u001b[0m \u001b[32m━━━━━━━━━━━━━━━━━━━━\u001b[0m\u001b[37m\u001b[0m \u001b[1m79s\u001b[0m 50ms/step - accuracy: 0.3160 - loss: 1.8368 - val_accuracy: 0.5385 - val_loss: 1.2656\n",
            "Epoch 2/5\n",
            "\u001b[1m1563/1563\u001b[0m \u001b[32m━━━━━━━━━━━━━━━━━━━━\u001b[0m\u001b[37m\u001b[0m \u001b[1m78s\u001b[0m 50ms/step - accuracy: 0.5632 - loss: 1.2222 - val_accuracy: 0.6065 - val_loss: 1.1172\n",
            "Epoch 3/5\n",
            "\u001b[1m1563/1563\u001b[0m \u001b[32m━━━━━━━━━━━━━━━━━━━━\u001b[0m\u001b[37m\u001b[0m \u001b[1m76s\u001b[0m 49ms/step - accuracy: 0.6216 - loss: 1.0729 - val_accuracy: 0.6189 - val_loss: 1.0675\n",
            "Epoch 4/5\n",
            "\u001b[1m1563/1563\u001b[0m \u001b[32m━━━━━━━━━━━━━━━━━━━━\u001b[0m\u001b[37m\u001b[0m \u001b[1m81s\u001b[0m 48ms/step - accuracy: 0.6470 - loss: 0.9951 - val_accuracy: 0.6542 - val_loss: 0.9922\n",
            "Epoch 5/5\n",
            "\u001b[1m1563/1563\u001b[0m \u001b[32m━━━━━━━━━━━━━━━━━━━━\u001b[0m\u001b[37m\u001b[0m \u001b[1m86s\u001b[0m 51ms/step - accuracy: 0.6751 - loss: 0.9282 - val_accuracy: 0.6519 - val_loss: 0.9930\n"
          ]
        },
        {
          "output_type": "execute_result",
          "data": {
            "text/plain": [
              "<keras.src.callbacks.history.History at 0x78fe36ff7250>"
            ]
          },
          "metadata": {},
          "execution_count": 16
        }
      ]
    },
    {
      "cell_type": "markdown",
      "source": [
        "1. **`y_predictions = model.predict(X_test)`**: Uses the trained model to predict probabilities for each class for the test dataset `X_test`.\n",
        "\n",
        "2. **`print(y_predictions[10])`**: Prints the predicted probabilities for the 10th sample in `X_test`.\n",
        "\n",
        "3. **`y_predictions = [np.argmax(arr) for arr in y_predictions]`**: Converts the predicted probabilities into class labels by selecting the index of the highest probability for each sample.\n",
        "\n",
        "4. **`print(y_classes[y_predictions[10]])`**: Prints the class name corresponding to the predicted label of the 10th sample in `X_test`, using the `y_classes` list.\n",
        "\n",
        "5. **`showImage(X_test, y_predictions, 10)`**: Prints the image in the array"
      ],
      "metadata": {
        "id": "UmWUPNqgJ8Vl"
      }
    },
    {
      "cell_type": "code",
      "source": [
        "y_predictions = model.predict(X_test)\n",
        "\n",
        "print(y_predictions[10])\n",
        "\n",
        "y_predictions = [np.argmax(arr) for arr in y_predictions]\n",
        "\n",
        "print(y_classes[y_predictions[10]])\n",
        "showImage(X_test, y_predictions, 10)"
      ],
      "metadata": {
        "colab": {
          "base_uri": "https://localhost:8080/",
          "height": 306
        },
        "id": "Npbwse4dJ8qI",
        "outputId": "09a67c01-d7ea-4ab3-d64a-3663fbc767c2"
      },
      "execution_count": 21,
      "outputs": [
        {
          "output_type": "stream",
          "name": "stdout",
          "text": [
            "\u001b[1m313/313\u001b[0m \u001b[32m━━━━━━━━━━━━━━━━━━━━\u001b[0m\u001b[37m\u001b[0m \u001b[1m4s\u001b[0m 12ms/step\n",
            "[0.3903577  0.00296351 0.26666188 0.11948492 0.09057231 0.03946741\n",
            " 0.00233975 0.00439351 0.08176924 0.00198973]\n",
            "airplane\n"
          ]
        },
        {
          "output_type": "display_data",
          "data": {
            "text/plain": [
              "<Figure size 1500x200 with 1 Axes>"
            ],
            "image/png": "[encoded data removed]"
          },
          "metadata": {}
        }
      ]
    },
    {
      "cell_type": "markdown",
      "source": [
        "`classification_report` from `sklearn.metrics` generates a report showing precision, recall, and F1-score for each class. The code `print(classification_report(y_test, y_predictions))` prints this evaluation for the true labels (`y_test`) against the predicted labels (`y_predictions`)."
      ],
      "metadata": {
        "id": "0adU5qG9LNOQ"
      }
    },
    {
      "cell_type": "code",
      "source": [
        "from sklearn.metrics import classification_report\n",
        "\n",
        "print(classification_report(y_test, y_predictions))"
      ],
      "metadata": {
        "colab": {
          "base_uri": "https://localhost:8080/"
        },
        "id": "_6UlDvpVLNkg",
        "outputId": "35cd967d-cc66-4346-adb4-d59ca007f3d5"
      },
      "execution_count": 22,
      "outputs": [
        {
          "output_type": "stream",
          "name": "stdout",
          "text": [
            "              precision    recall  f1-score   support\n",
            "\n",
            "           0       0.75      0.67      0.71      1000\n",
            "           1       0.76      0.82      0.79      1000\n",
            "           2       0.46      0.60      0.52      1000\n",
            "           3       0.56      0.38      0.45      1000\n",
            "           4       0.64      0.50      0.56      1000\n",
            "           5       0.62      0.47      0.53      1000\n",
            "           6       0.61      0.82      0.70      1000\n",
            "           7       0.75      0.67      0.71      1000\n",
            "           8       0.71      0.81      0.76      1000\n",
            "           9       0.69      0.77      0.73      1000\n",
            "\n",
            "    accuracy                           0.65     10000\n",
            "   macro avg       0.66      0.65      0.65     10000\n",
            "weighted avg       0.66      0.65      0.65     10000\n",
            "\n"
          ]
        }
      ]
    },
    {
      "cell_type": "markdown",
      "source": [
        "1. **`confusion_matrix(y_test, y_predictions)`**: Computes the confusion matrix comparing true labels (`y_test`) with predicted labels (`y_predictions`).\n",
        "2. **`print(cm)`**: Prints the confusion matrix.\n",
        "3. **`sns.heatmap(cm, annot=True)`**: Plots the confusion matrix using Seaborn with annotations for each cell.\n",
        "4. **`plt.figure(figsize=(14, 7))`**: Sets the figure size for better readability.\n",
        "5. **`plt.ylabel(\"Truth\")`, `plt.xlabel(\"Predictions From Model\")`, `plt.title(\"Confusion matrix\")`**: Labels the axes and title of the plot.\n",
        "6. **`plt.show()`**: Displays the heatmap."
      ],
      "metadata": {
        "id": "tirR9gPGLjCx"
      }
    },
    {
      "cell_type": "code",
      "source": [
        "from sklearn.metrics import confusion_matrix\n",
        "\n",
        "cm = confusion_matrix(y_test, y_predictions)\n",
        "\n",
        "print(cm)\n",
        "\n",
        "import seaborn as sns\n",
        "import matplotlib.pyplot as plt\n",
        "\n",
        "plt.figure(figsize=(14, 7))\n",
        "sns.heatmap(cm, annot=True)\n",
        "plt.ylabel(\"Truth\")\n",
        "plt.xlabel(\"Predictions From Model\")\n",
        "plt.title(\"Confusion matrix\")\n",
        "plt.show()"
      ],
      "metadata": {
        "colab": {
          "base_uri": "https://localhost:8080/",
          "height": 815
        },
        "id": "idBejsibLjVA",
        "outputId": "6e38c36a-5cd6-4d0d-ae11-1b37c0054ed2"
      },
      "execution_count": 23,
      "outputs": [
        {
          "output_type": "stream",
          "name": "stdout",
          "text": [
            "[[672  26  86   9  12   4   9  10 119  53]\n",
            " [ 12 825   4   4   3   1   8   2  34 107]\n",
            " [ 55  15 604  29  66  54 102  35  26  14]\n",
            " [ 20  19 141 381  63 143 129  27  41  36]\n",
            " [ 27   5 158  47 500  14 158  62  18  11]\n",
            " [ 14   9 149 146  38 468  75  62  24  15]\n",
            " [  4  14  61  25  25  16 818   5  17  15]\n",
            " [ 12   5  78  26  72  52  22 673   5  55]\n",
            " [ 59  43  21   4   5   7   7   4 808  42]\n",
            " [ 17 119  10   9   3   1  12  14  45 770]]\n"
          ]
        },
        {
          "output_type": "display_data",
          "data": {
            "text/plain": [
              "<Figure size 1400x700 with 2 Axes>"
            ],
            "image/png": "[encoded data removed]"
          },
          "metadata": {}
        }
      ]
    }
  ]
}